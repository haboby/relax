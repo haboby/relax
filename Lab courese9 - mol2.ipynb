{
    "cells": [
        {
            "metadata": {
                "collapsed": true
            },
            "cell_type": "markdown",
            "source": "# HVAN - 20200404 - Segmenting and Clustering Neighborhoods in Toronto"
        },
        {
            "metadata": {},
            "cell_type": "code",
            "source": "#import library\nfrom bs4 import BeautifulSoup\nimport requests\nimport lxml\nimport html5lib\nimport pandas as pd\nimport numpy as np\nimport csv",
            "execution_count": 21,
            "outputs": []
        },
        {
            "metadata": {},
            "cell_type": "markdown",
            "source": "# Get data from website wiki"
        },
        {
            "metadata": {},
            "cell_type": "code",
            "source": "source = requests.get('https://en.wikipedia.org/wiki/List_of_postal_codes_of_Canada:_M').text",
            "execution_count": 22,
            "outputs": []
        },
        {
            "metadata": {},
            "cell_type": "code",
            "source": "soup = BeautifulSoup(source, 'lxml')",
            "execution_count": 23,
            "outputs": []
        },
        {
            "metadata": {},
            "cell_type": "code",
            "source": "tableToronto = soup.find('table')",
            "execution_count": 24,
            "outputs": []
        },
        {
            "metadata": {},
            "cell_type": "code",
            "source": "print(tableToronto.text)",
            "execution_count": 25,
            "outputs": [
                {
                    "output_type": "stream",
                    "text": "\n\nPostal code\n\nBorough\n\nNeighborhood\n\n\nM1A\n\nNot assigned\n\n\n\n\nM2A\n\nNot assigned\n\n\n\n\nM3A\n\nNorth York\n\nParkwoods\n\n\nM4A\n\nNorth York\n\nVictoria Village\n\n\nM5A\n\nDowntown Toronto\n\nRegent Park / Harbourfront\n\n\nM6A\n\nNorth York\n\nLawrence Manor / Lawrence Heights\n\n\nM7A\n\nDowntown Toronto\n\nQueen's Park / Ontario Provincial Government\n\n\nM8A\n\nNot assigned\n\n\n\n\nM9A\n\nEtobicoke\n\nIslington Avenue\n\n\nM1B\n\nScarborough\n\nMalvern / Rouge\n\n\nM2B\n\nNot assigned\n\n\n\n\nM3B\n\nNorth York\n\nDon Mills\n\n\nM4B\n\nEast York\n\nParkview Hill / Woodbine Gardens\n\n\nM5B\n\nDowntown Toronto\n\nGarden District, Ryerson\n\n\nM6B\n\nNorth York\n\nGlencairn\n\n\nM7B\n\nNot assigned\n\n\n\n\nM8B\n\nNot assigned\n\n\n\n\nM9B\n\nEtobicoke\n\nWest Deane Park / Princess Gardens / Martin Grove / Islington / Cloverdale\n\n\nM1C\n\nScarborough\n\nRouge Hill / Port Union / Highland Creek\n\n\nM2C\n\nNot assigned\n\n\n\n\nM3C\n\nNorth York\n\nDon Mills\n\n\nM4C\n\nEast York\n\nWoodbine Heights\n\n\nM5C\n\nDowntown Toronto\n\nSt. James Town\n\n\nM6C\n\nYork\n\nHumewood-Cedarvale\n\n\nM7C\n\nNot assigned\n\n\n\n\nM8C\n\nNot assigned\n\n\n\n\nM9C\n\nEtobicoke\n\nEringate / Bloordale Gardens / Old Burnhamthorpe / Markland Wood\n\n\nM1E\n\nScarborough\n\nGuildwood / Morningside / West Hill\n\n\nM2E\n\nNot assigned\n\n\n\n\nM3E\n\nNot assigned\n\n\n\n\nM4E\n\nEast Toronto\n\nThe Beaches\n\n\nM5E\n\nDowntown Toronto\n\nBerczy Park\n\n\nM6E\n\nYork\n\nCaledonia-Fairbanks\n\n\nM7E\n\nNot assigned\n\n\n\n\nM8E\n\nNot assigned\n\n\n\n\nM9E\n\nNot assigned\n\n\n\n\nM1G\n\nScarborough\n\nWoburn\n\n\nM2G\n\nNot assigned\n\n\n\n\nM3G\n\nNot assigned\n\n\n\n\nM4G\n\nEast York\n\nLeaside\n\n\nM5G\n\nDowntown Toronto\n\nCentral Bay Street\n\n\nM6G\n\nDowntown Toronto\n\nChristie\n\n\nM7G\n\nNot assigned\n\n\n\n\nM8G\n\nNot assigned\n\n\n\n\nM9G\n\nNot assigned\n\n\n\n\nM1H\n\nScarborough\n\nCedarbrae\n\n\nM2H\n\nNorth York\n\nHillcrest Village\n\n\nM3H\n\nNorth York\n\nBathurst Manor / Wilson Heights / Downsview North\n\n\nM4H\n\nEast York\n\nThorncliffe Park\n\n\nM5H\n\nDowntown Toronto\n\nRichmond / Adelaide / King\n\n\nM6H\n\nWest Toronto\n\nDufferin / Dovercourt Village\n\n\nM7H\n\nNot assigned\n\n\n\n\nM8H\n\nNot assigned\n\n\n\n\nM9H\n\nNot assigned\n\n\n\n\nM1J\n\nScarborough\n\nScarborough Village\n\n\nM2J\n\nNorth York\n\nFairview / Henry Farm / Oriole\n\n\nM3J\n\nNorth York\n\nNorthwood Park / York University\n\n\nM4J\n\nEast York\n\nEast Toronto\n\n\nM5J\n\nDowntown Toronto\n\nHarbourfront East / Union Station / Toronto Islands\n\n\nM6J\n\nWest Toronto\n\nLittle Portugal / Trinity\n\n\nM7J\n\nNot assigned\n\n\n\n\nM8J\n\nNot assigned\n\n\n\n\nM9J\n\nNot assigned\n\n\n\n\nM1K\n\nScarborough\n\nKennedy Park / Ionview / East Birchmount Park\n\n\nM2K\n\nNorth York\n\nBayview Village\n\n\nM3K\n\nNorth York\n\nDownsview\n\n\nM4K\n\nEast Toronto\n\nThe Danforth West / Riverdale\n\n\nM5K\n\nDowntown Toronto\n\nToronto Dominion Centre / Design Exchange\n\n\nM6K\n\nWest Toronto\n\nBrockton / Parkdale Village / Exhibition Place\n\n\nM7K\n\nNot assigned\n\n\n\n\nM8K\n\nNot assigned\n\n\n\n\nM9K\n\nNot assigned\n\n\n\n\nM1L\n\nScarborough\n\nGolden Mile / Clairlea / Oakridge\n\n\nM2L\n\nNorth York\n\nYork Mills / Silver Hills\n\n\nM3L\n\nNorth York\n\nDownsview\n\n\nM4L\n\nEast Toronto\n\nIndia Bazaar / The Beaches West\n\n\nM5L\n\nDowntown Toronto\n\nCommerce Court / Victoria Hotel\n\n\nM6L\n\nNorth York\n\nNorth Park / Maple Leaf Park / Upwood Park\n\n\nM7L\n\nNot assigned\n\n\n\n\nM8L\n\nNot assigned\n\n\n\n\nM9L\n\nNorth York\n\nHumber Summit\n\n\nM1M\n\nScarborough\n\nCliffside / Cliffcrest / Scarborough Village West\n\n\nM2M\n\nNorth York\n\nWillowdale / Newtonbrook\n\n\nM3M\n\nNorth York\n\nDownsview\n\n\nM4M\n\nEast Toronto\n\nStudio District\n\n\nM5M\n\nNorth York\n\nBedford Park / Lawrence Manor East\n\n\nM6M\n\nYork\n\nDel Ray / Mount Dennis / Keelsdale and Silverthorn\n\n\nM7M\n\nNot assigned\n\n\n\n\nM8M\n\nNot assigned\n\n\n\n\nM9M\n\nNorth York\n\nHumberlea / Emery\n\n\nM1N\n\nScarborough\n\nBirch Cliff / Cliffside West\n\n\nM2N\n\nNorth York\n\nWillowdale\n\n\nM3N\n\nNorth York\n\nDownsview\n\n\nM4N\n\nCentral Toronto\n\nLawrence Park\n\n\nM5N\n\nCentral Toronto\n\nRoselawn\n\n\nM6N\n\nYork\n\nRunnymede / The Junction North\n\n\nM7N\n\nNot assigned\n\n\n\n\nM8N\n\nNot assigned\n\n\n\n\nM9N\n\nYork\n\nWeston\n\n\nM1P\n\nScarborough\n\nDorset Park / Wexford Heights / Scarborough Town Centre\n\n\nM2P\n\nNorth York\n\nYork Mills West\n\n\nM3P\n\nNot assigned\n\n\n\n\nM4P\n\nCentral Toronto\n\nDavisville North\n\n\nM5P\n\nCentral Toronto\n\nForest Hill North & West\n\n\nM6P\n\nWest Toronto\n\nHigh Park / The Junction South\n\n\nM7P\n\nNot assigned\n\n\n\n\nM8P\n\nNot assigned\n\n\n\n\nM9P\n\nEtobicoke\n\nWestmount\n\n\nM1R\n\nScarborough\n\nWexford / Maryvale\n\n\nM2R\n\nNorth York\n\nWillowdale\n\n\nM3R\n\nNot assigned\n\n\n\n\nM4R\n\nCentral Toronto\n\nNorth Toronto West\n\n\nM5R\n\nCentral Toronto\n\nThe Annex / North Midtown / Yorkville\n\n\nM6R\n\nWest Toronto\n\nParkdale / Roncesvalles\n\n\nM7R\n\nMississauga\n\nCanada Post Gateway Processing Centre\n\n\nM8R\n\nNot assigned\n\n\n\n\nM9R\n\nEtobicoke\n\nKingsview Village / St. Phillips / Martin Grove Gardens / Richview Gardens\n\n\nM1S\n\nScarborough\n\nAgincourt\n\n\nM2S\n\nNot assigned\n\n\n\n\nM3S\n\nNot assigned\n\n\n\n\nM4S\n\nCentral Toronto\n\nDavisville\n\n\nM5S\n\nDowntown Toronto\n\nUniversity of Toronto / Harbord\n\n\nM6S\n\nWest Toronto\n\nRunnymede / Swansea\n\n\nM7S\n\nNot assigned\n\n\n\n\nM8S\n\nNot assigned\n\n\n\n\nM9S\n\nNot assigned\n\n\n\n\nM1T\n\nScarborough\n\nClarks Corners / Tam O'Shanter / Sullivan\n\n\nM2T\n\nNot assigned\n\n\n\n\nM3T\n\nNot assigned\n\n\n\n\nM4T\n\nCentral Toronto\n\nMoore Park / Summerhill East\n\n\nM5T\n\nDowntown Toronto\n\nKensington Market / Chinatown / Grange Park\n\n\nM6T\n\nNot assigned\n\n\n\n\nM7T\n\nNot assigned\n\n\n\n\nM8T\n\nNot assigned\n\n\n\n\nM9T\n\nNot assigned\n\n\n\n\nM1V\n\nScarborough\n\nMilliken / Agincourt North / Steeles East / L'Amoreaux East\n\n\nM2V\n\nNot assigned\n\n\n\n\nM3V\n\nNot assigned\n\n\n\n\nM4V\n\nCentral Toronto\n\nSummerhill West / Rathnelly / South Hill / Forest Hill SE / Deer Park\n\n\nM5V\n\nDowntown Toronto\n\nCN Tower / King and Spadina / Railway Lands / Harbourfront West / Bathurst\n Quay / South Niagara / Island airport\n\n\n\nM6V\n\nNot assigned\n\n\n\n\nM7V\n\nNot assigned\n\n\n\n\nM8V\n\nEtobicoke\n\nNew Toronto / Mimico South / Humber Bay Shores\n\n\nM9V\n\nEtobicoke\n\nSouth Steeles / Silverstone / Humbergate / Jamestown / Mount Olive / Beaumond Heights / Thistletown / Albion Gardens\n\n\nM1W\n\nScarborough\n\nSteeles West / L'Amoreaux West\n\n\nM2W\n\nNot assigned\n\n\n\n\nM3W\n\nNot assigned\n\n\n\n\nM4W\n\nDowntown Toronto\n\nRosedale\n\n\nM5W\n\nDowntown Toronto\n\nStn A PO Boxes\n\n\nM6W\n\nNot assigned\n\n\n\n\nM7W\n\nNot assigned\n\n\n\n\nM8W\n\nEtobicoke\n\nAlderwood / Long Branch\n\n\nM9W\n\nEtobicoke\n\nNorthwest\n\n\nM1X\n\nScarborough\n\nUpper Rouge\n\n\nM2X\n\nNot assigned\n\n\n\n\nM3X\n\nNot assigned\n\n\n\n\nM4X\n\nDowntown Toronto\n\nSt. James Town / Cabbagetown\n\n\nM5X\n\nDowntown Toronto\n\nFirst Canadian Place / Underground city\n\n\nM6X\n\nNot assigned\n\n\n\n\nM7X\n\nNot assigned\n\n\n\n\nM8X\n\nEtobicoke\n\nThe Kingsway / Montgomery Road  / Old Mill North\n\n\nM9X\n\nNot assigned\n\n\n\n\nM1Y\n\nNot assigned\n\n\n\n\nM2Y\n\nNot assigned\n\n\n\n\nM3Y\n\nNot assigned\n\n\n\n\nM4Y\n\nDowntown Toronto\n\nChurch and Wellesley\n\n\nM5Y\n\nNot assigned\n\n\n\n\nM6Y\n\nNot assigned\n\n\n\n\nM7Y\n\nEast Toronto\n\nBusiness reply mail Processing CentrE\n\n\nM8Y\n\nEtobicoke\n\nOld Mill South / King's Mill Park / Sunnylea / Humber Bay / Mimico NE / The Queensway East / Royal York South East / Kingsway Park South East\n\n\nM9Y\n\nNot assigned\n\n\n\n\nM1Z\n\nNot assigned\n\n\n\n\nM2Z\n\nNot assigned\n\n\n\n\nM3Z\n\nNot assigned\n\n\n\n\nM4Z\n\nNot assigned\n\n\n\n\nM5Z\n\nNot assigned\n\n\n\n\nM6Z\n\nNot assigned\n\n\n\n\nM7Z\n\nNot assigned\n\n\n\n\nM8Z\n\nEtobicoke\n\nMimico NW / The Queensway West / South of Bloor / Kingsway Park South West / Royal York South West\n\n\nM9Z\n\nNot assigned\n\n\n\n",
                    "name": "stdout"
                }
            ]
        },
        {
            "metadata": {},
            "cell_type": "markdown",
            "source": "# Question 1: Preprocessing and clean data\n"
        },
        {
            "metadata": {
                "scrolled": true
            },
            "cell_type": "code",
            "source": "print(tableToronto.tr.text)",
            "execution_count": 26,
            "outputs": [
                {
                    "output_type": "stream",
                    "text": "\nPostal code\n\nBorough\n\nNeighborhood\n\n",
                    "name": "stdout"
                }
            ]
        },
        {
            "metadata": {},
            "cell_type": "code",
            "source": "#dataframe will consist of three columns: PostalCode, Borough, and Neighborhood\ncolumn_names = ['Postalcode','Borough','Neighborhood']\ndf = pd.DataFrame(columns = column_names)",
            "execution_count": 27,
            "outputs": []
        },
        {
            "metadata": {},
            "cell_type": "code",
            "source": "# Search all the postcode, borough, neighborhood \nfor tr_cell in tableToronto.find_all('tr'):\n    row_data=[]\n    for td_cell in tr_cell.find_all('td'):\n        row_data.append(td_cell.text.strip())\n    if len(row_data)==3:\n        df.loc[len(df)] = row_data",
            "execution_count": 28,
            "outputs": []
        },
        {
            "metadata": {},
            "cell_type": "code",
            "source": "df.head(10)",
            "execution_count": 29,
            "outputs": [
                {
                    "output_type": "execute_result",
                    "execution_count": 29,
                    "data": {
                        "text/plain": "  Postalcode           Borough                                  Neighborhood\n0        M1A      Not assigned                                              \n1        M2A      Not assigned                                              \n2        M3A        North York                                     Parkwoods\n3        M4A        North York                              Victoria Village\n4        M5A  Downtown Toronto                    Regent Park / Harbourfront\n5        M6A        North York             Lawrence Manor / Lawrence Heights\n6        M7A  Downtown Toronto  Queen's Park / Ontario Provincial Government\n7        M8A      Not assigned                                              \n8        M9A         Etobicoke                              Islington Avenue\n9        M1B       Scarborough                               Malvern / Rouge",
                        "text/html": "<div>\n<style scoped>\n    .dataframe tbody tr th:only-of-type {\n        vertical-align: middle;\n    }\n\n    .dataframe tbody tr th {\n        vertical-align: top;\n    }\n\n    .dataframe thead th {\n        text-align: right;\n    }\n</style>\n<table border=\"1\" class=\"dataframe\">\n  <thead>\n    <tr style=\"text-align: right;\">\n      <th></th>\n      <th>Postalcode</th>\n      <th>Borough</th>\n      <th>Neighborhood</th>\n    </tr>\n  </thead>\n  <tbody>\n    <tr>\n      <th>0</th>\n      <td>M1A</td>\n      <td>Not assigned</td>\n      <td></td>\n    </tr>\n    <tr>\n      <th>1</th>\n      <td>M2A</td>\n      <td>Not assigned</td>\n      <td></td>\n    </tr>\n    <tr>\n      <th>2</th>\n      <td>M3A</td>\n      <td>North York</td>\n      <td>Parkwoods</td>\n    </tr>\n    <tr>\n      <th>3</th>\n      <td>M4A</td>\n      <td>North York</td>\n      <td>Victoria Village</td>\n    </tr>\n    <tr>\n      <th>4</th>\n      <td>M5A</td>\n      <td>Downtown Toronto</td>\n      <td>Regent Park / Harbourfront</td>\n    </tr>\n    <tr>\n      <th>5</th>\n      <td>M6A</td>\n      <td>North York</td>\n      <td>Lawrence Manor / Lawrence Heights</td>\n    </tr>\n    <tr>\n      <th>6</th>\n      <td>M7A</td>\n      <td>Downtown Toronto</td>\n      <td>Queen's Park / Ontario Provincial Government</td>\n    </tr>\n    <tr>\n      <th>7</th>\n      <td>M8A</td>\n      <td>Not assigned</td>\n      <td></td>\n    </tr>\n    <tr>\n      <th>8</th>\n      <td>M9A</td>\n      <td>Etobicoke</td>\n      <td>Islington Avenue</td>\n    </tr>\n    <tr>\n      <th>9</th>\n      <td>M1B</td>\n      <td>Scarborough</td>\n      <td>Malvern / Rouge</td>\n    </tr>\n  </tbody>\n</table>\n</div>"
                    },
                    "metadata": {}
                }
            ]
        },
        {
            "metadata": {},
            "cell_type": "code",
            "source": "#Data cleaning\ndf=df[df['Borough']!='Not assigned']",
            "execution_count": 30,
            "outputs": []
        },
        {
            "metadata": {},
            "cell_type": "code",
            "source": "df.head(10)",
            "execution_count": 31,
            "outputs": [
                {
                    "output_type": "execute_result",
                    "execution_count": 31,
                    "data": {
                        "text/plain": "   Postalcode           Borough                                  Neighborhood\n2         M3A        North York                                     Parkwoods\n3         M4A        North York                              Victoria Village\n4         M5A  Downtown Toronto                    Regent Park / Harbourfront\n5         M6A        North York             Lawrence Manor / Lawrence Heights\n6         M7A  Downtown Toronto  Queen's Park / Ontario Provincial Government\n8         M9A         Etobicoke                              Islington Avenue\n9         M1B       Scarborough                               Malvern / Rouge\n11        M3B        North York                                     Don Mills\n12        M4B         East York              Parkview Hill / Woodbine Gardens\n13        M5B  Downtown Toronto                      Garden District, Ryerson",
                        "text/html": "<div>\n<style scoped>\n    .dataframe tbody tr th:only-of-type {\n        vertical-align: middle;\n    }\n\n    .dataframe tbody tr th {\n        vertical-align: top;\n    }\n\n    .dataframe thead th {\n        text-align: right;\n    }\n</style>\n<table border=\"1\" class=\"dataframe\">\n  <thead>\n    <tr style=\"text-align: right;\">\n      <th></th>\n      <th>Postalcode</th>\n      <th>Borough</th>\n      <th>Neighborhood</th>\n    </tr>\n  </thead>\n  <tbody>\n    <tr>\n      <th>2</th>\n      <td>M3A</td>\n      <td>North York</td>\n      <td>Parkwoods</td>\n    </tr>\n    <tr>\n      <th>3</th>\n      <td>M4A</td>\n      <td>North York</td>\n      <td>Victoria Village</td>\n    </tr>\n    <tr>\n      <th>4</th>\n      <td>M5A</td>\n      <td>Downtown Toronto</td>\n      <td>Regent Park / Harbourfront</td>\n    </tr>\n    <tr>\n      <th>5</th>\n      <td>M6A</td>\n      <td>North York</td>\n      <td>Lawrence Manor / Lawrence Heights</td>\n    </tr>\n    <tr>\n      <th>6</th>\n      <td>M7A</td>\n      <td>Downtown Toronto</td>\n      <td>Queen's Park / Ontario Provincial Government</td>\n    </tr>\n    <tr>\n      <th>8</th>\n      <td>M9A</td>\n      <td>Etobicoke</td>\n      <td>Islington Avenue</td>\n    </tr>\n    <tr>\n      <th>9</th>\n      <td>M1B</td>\n      <td>Scarborough</td>\n      <td>Malvern / Rouge</td>\n    </tr>\n    <tr>\n      <th>11</th>\n      <td>M3B</td>\n      <td>North York</td>\n      <td>Don Mills</td>\n    </tr>\n    <tr>\n      <th>12</th>\n      <td>M4B</td>\n      <td>East York</td>\n      <td>Parkview Hill / Woodbine Gardens</td>\n    </tr>\n    <tr>\n      <th>13</th>\n      <td>M5B</td>\n      <td>Downtown Toronto</td>\n      <td>Garden District, Ryerson</td>\n    </tr>\n  </tbody>\n</table>\n</div>"
                    },
                    "metadata": {}
                }
            ]
        },
        {
            "metadata": {},
            "cell_type": "code",
            "source": "df.shape",
            "execution_count": 32,
            "outputs": [
                {
                    "output_type": "execute_result",
                    "execution_count": 32,
                    "data": {
                        "text/plain": "(103, 3)"
                    },
                    "metadata": {}
                }
            ]
        },
        {
            "metadata": {},
            "cell_type": "code",
            "source": "",
            "execution_count": null,
            "outputs": []
        },
        {
            "metadata": {},
            "cell_type": "markdown",
            "source": "# Question 2 - add long and lat"
        },
        {
            "metadata": {},
            "cell_type": "code",
            "source": "\nimport types\nimport pandas as pd\nfrom botocore.client import Config\nimport ibm_boto3\n\ndef __iter__(self): return 0\n\n# @hidden_cell\n# The following code accesses a file in your IBM Cloud Object Storage. It includes your credentials.\n# You might want to remove those credentials before you share the notebook.\nclient_1132db4242cb409cb373dc7ccdc0c65e = ibm_boto3.client(service_name='s3',\n    ibm_api_key_id='FLuvlJhcXZi2Yaq1OBjsWAxQKSLi78kNyAXLK6m0gCfF',\n    ibm_auth_endpoint=\"https://iam.ng.bluemix.net/oidc/token\",\n    config=Config(signature_version='oauth'),\n    endpoint_url='https://s3-api.us-geo.objectstorage.service.networklayer.com')\n\nbody = client_1132db4242cb409cb373dc7ccdc0c65e.get_object(Bucket='labcourse9module2-donotdelete-pr-loyhpbpuszuug7',Key='Geospatial_Coordinates.csv')['Body']\n# add missing __iter__ method, so pandas accepts body as file-like object\nif not hasattr(body, \"__iter__\"): body.__iter__ = types.MethodType( __iter__, body )\n\n# If you are reading an Excel file into a pandas DataFrame, replace `read_csv` by `read_excel` in the next statement.\ndf_longlat = pd.read_csv(body)\ndf_longlat.head()",
            "execution_count": 33,
            "outputs": [
                {
                    "output_type": "execute_result",
                    "execution_count": 33,
                    "data": {
                        "text/plain": "  Postal Code   Latitude  Longitude\n0         M1B  43.806686 -79.194353\n1         M1C  43.784535 -79.160497\n2         M1E  43.763573 -79.188711\n3         M1G  43.770992 -79.216917\n4         M1H  43.773136 -79.239476",
                        "text/html": "<div>\n<style scoped>\n    .dataframe tbody tr th:only-of-type {\n        vertical-align: middle;\n    }\n\n    .dataframe tbody tr th {\n        vertical-align: top;\n    }\n\n    .dataframe thead th {\n        text-align: right;\n    }\n</style>\n<table border=\"1\" class=\"dataframe\">\n  <thead>\n    <tr style=\"text-align: right;\">\n      <th></th>\n      <th>Postal Code</th>\n      <th>Latitude</th>\n      <th>Longitude</th>\n    </tr>\n  </thead>\n  <tbody>\n    <tr>\n      <th>0</th>\n      <td>M1B</td>\n      <td>43.806686</td>\n      <td>-79.194353</td>\n    </tr>\n    <tr>\n      <th>1</th>\n      <td>M1C</td>\n      <td>43.784535</td>\n      <td>-79.160497</td>\n    </tr>\n    <tr>\n      <th>2</th>\n      <td>M1E</td>\n      <td>43.763573</td>\n      <td>-79.188711</td>\n    </tr>\n    <tr>\n      <th>3</th>\n      <td>M1G</td>\n      <td>43.770992</td>\n      <td>-79.216917</td>\n    </tr>\n    <tr>\n      <th>4</th>\n      <td>M1H</td>\n      <td>43.773136</td>\n      <td>-79.239476</td>\n    </tr>\n  </tbody>\n</table>\n</div>"
                    },
                    "metadata": {}
                }
            ]
        },
        {
            "metadata": {},
            "cell_type": "code",
            "source": "df_longlat.columns=['Postalcode','Latitude','Longitude']",
            "execution_count": 35,
            "outputs": []
        },
        {
            "metadata": {},
            "cell_type": "code",
            "source": "df_longlat.head(10)",
            "execution_count": 36,
            "outputs": [
                {
                    "output_type": "execute_result",
                    "execution_count": 36,
                    "data": {
                        "text/plain": "  Postalcode   Latitude  Longitude\n0        M1B  43.806686 -79.194353\n1        M1C  43.784535 -79.160497\n2        M1E  43.763573 -79.188711\n3        M1G  43.770992 -79.216917\n4        M1H  43.773136 -79.239476\n5        M1J  43.744734 -79.239476\n6        M1K  43.727929 -79.262029\n7        M1L  43.711112 -79.284577\n8        M1M  43.716316 -79.239476\n9        M1N  43.692657 -79.264848",
                        "text/html": "<div>\n<style scoped>\n    .dataframe tbody tr th:only-of-type {\n        vertical-align: middle;\n    }\n\n    .dataframe tbody tr th {\n        vertical-align: top;\n    }\n\n    .dataframe thead th {\n        text-align: right;\n    }\n</style>\n<table border=\"1\" class=\"dataframe\">\n  <thead>\n    <tr style=\"text-align: right;\">\n      <th></th>\n      <th>Postalcode</th>\n      <th>Latitude</th>\n      <th>Longitude</th>\n    </tr>\n  </thead>\n  <tbody>\n    <tr>\n      <th>0</th>\n      <td>M1B</td>\n      <td>43.806686</td>\n      <td>-79.194353</td>\n    </tr>\n    <tr>\n      <th>1</th>\n      <td>M1C</td>\n      <td>43.784535</td>\n      <td>-79.160497</td>\n    </tr>\n    <tr>\n      <th>2</th>\n      <td>M1E</td>\n      <td>43.763573</td>\n      <td>-79.188711</td>\n    </tr>\n    <tr>\n      <th>3</th>\n      <td>M1G</td>\n      <td>43.770992</td>\n      <td>-79.216917</td>\n    </tr>\n    <tr>\n      <th>4</th>\n      <td>M1H</td>\n      <td>43.773136</td>\n      <td>-79.239476</td>\n    </tr>\n    <tr>\n      <th>5</th>\n      <td>M1J</td>\n      <td>43.744734</td>\n      <td>-79.239476</td>\n    </tr>\n    <tr>\n      <th>6</th>\n      <td>M1K</td>\n      <td>43.727929</td>\n      <td>-79.262029</td>\n    </tr>\n    <tr>\n      <th>7</th>\n      <td>M1L</td>\n      <td>43.711112</td>\n      <td>-79.284577</td>\n    </tr>\n    <tr>\n      <th>8</th>\n      <td>M1M</td>\n      <td>43.716316</td>\n      <td>-79.239476</td>\n    </tr>\n    <tr>\n      <th>9</th>\n      <td>M1N</td>\n      <td>43.692657</td>\n      <td>-79.264848</td>\n    </tr>\n  </tbody>\n</table>\n</div>"
                    },
                    "metadata": {}
                }
            ]
        },
        {
            "metadata": {},
            "cell_type": "code",
            "source": "#Merge 2 df\ndf_Toronto = pd.merge(df,df_longlat[['Postalcode','Latitude', 'Longitude']],on='Postalcode')",
            "execution_count": 37,
            "outputs": []
        },
        {
            "metadata": {},
            "cell_type": "code",
            "source": "df_Toronto",
            "execution_count": 38,
            "outputs": [
                {
                    "output_type": "execute_result",
                    "execution_count": 38,
                    "data": {
                        "text/plain": "    Postalcode           Borough  \\\n0          M3A        North York   \n1          M4A        North York   \n2          M5A  Downtown Toronto   \n3          M6A        North York   \n4          M7A  Downtown Toronto   \n5          M9A         Etobicoke   \n6          M1B       Scarborough   \n7          M3B        North York   \n8          M4B         East York   \n9          M5B  Downtown Toronto   \n10         M6B        North York   \n11         M9B         Etobicoke   \n12         M1C       Scarborough   \n13         M3C        North York   \n14         M4C         East York   \n15         M5C  Downtown Toronto   \n16         M6C              York   \n17         M9C         Etobicoke   \n18         M1E       Scarborough   \n19         M4E      East Toronto   \n20         M5E  Downtown Toronto   \n21         M6E              York   \n22         M1G       Scarborough   \n23         M4G         East York   \n24         M5G  Downtown Toronto   \n25         M6G  Downtown Toronto   \n26         M1H       Scarborough   \n27         M2H        North York   \n28         M3H        North York   \n29         M4H         East York   \n..         ...               ...   \n73         M4R   Central Toronto   \n74         M5R   Central Toronto   \n75         M6R      West Toronto   \n76         M7R       Mississauga   \n77         M9R         Etobicoke   \n78         M1S       Scarborough   \n79         M4S   Central Toronto   \n80         M5S  Downtown Toronto   \n81         M6S      West Toronto   \n82         M1T       Scarborough   \n83         M4T   Central Toronto   \n84         M5T  Downtown Toronto   \n85         M1V       Scarborough   \n86         M4V   Central Toronto   \n87         M5V  Downtown Toronto   \n88         M8V         Etobicoke   \n89         M9V         Etobicoke   \n90         M1W       Scarborough   \n91         M4W  Downtown Toronto   \n92         M5W  Downtown Toronto   \n93         M8W         Etobicoke   \n94         M9W         Etobicoke   \n95         M1X       Scarborough   \n96         M4X  Downtown Toronto   \n97         M5X  Downtown Toronto   \n98         M8X         Etobicoke   \n99         M4Y  Downtown Toronto   \n100        M7Y      East Toronto   \n101        M8Y         Etobicoke   \n102        M8Z         Etobicoke   \n\n                                          Neighborhood   Latitude  Longitude  \n0                                            Parkwoods  43.753259 -79.329656  \n1                                     Victoria Village  43.725882 -79.315572  \n2                           Regent Park / Harbourfront  43.654260 -79.360636  \n3                    Lawrence Manor / Lawrence Heights  43.718518 -79.464763  \n4         Queen's Park / Ontario Provincial Government  43.662301 -79.389494  \n5                                     Islington Avenue  43.667856 -79.532242  \n6                                      Malvern / Rouge  43.806686 -79.194353  \n7                                            Don Mills  43.745906 -79.352188  \n8                     Parkview Hill / Woodbine Gardens  43.706397 -79.309937  \n9                             Garden District, Ryerson  43.657162 -79.378937  \n10                                           Glencairn  43.709577 -79.445073  \n11   West Deane Park / Princess Gardens / Martin Gr...  43.650943 -79.554724  \n12            Rouge Hill / Port Union / Highland Creek  43.784535 -79.160497  \n13                                           Don Mills  43.725900 -79.340923  \n14                                    Woodbine Heights  43.695344 -79.318389  \n15                                      St. James Town  43.651494 -79.375418  \n16                                  Humewood-Cedarvale  43.693781 -79.428191  \n17   Eringate / Bloordale Gardens / Old Burnhamthor...  43.643515 -79.577201  \n18                 Guildwood / Morningside / West Hill  43.763573 -79.188711  \n19                                         The Beaches  43.676357 -79.293031  \n20                                         Berczy Park  43.644771 -79.373306  \n21                                 Caledonia-Fairbanks  43.689026 -79.453512  \n22                                              Woburn  43.770992 -79.216917  \n23                                             Leaside  43.709060 -79.363452  \n24                                  Central Bay Street  43.657952 -79.387383  \n25                                            Christie  43.669542 -79.422564  \n26                                           Cedarbrae  43.773136 -79.239476  \n27                                   Hillcrest Village  43.803762 -79.363452  \n28   Bathurst Manor / Wilson Heights / Downsview North  43.754328 -79.442259  \n29                                    Thorncliffe Park  43.705369 -79.349372  \n..                                                 ...        ...        ...  \n73                                  North Toronto West  43.715383 -79.405678  \n74               The Annex / North Midtown / Yorkville  43.672710 -79.405678  \n75                             Parkdale / Roncesvalles  43.648960 -79.456325  \n76               Canada Post Gateway Processing Centre  43.636966 -79.615819  \n77   Kingsview Village / St. Phillips / Martin Grov...  43.688905 -79.554724  \n78                                           Agincourt  43.794200 -79.262029  \n79                                          Davisville  43.704324 -79.388790  \n80                     University of Toronto / Harbord  43.662696 -79.400049  \n81                                 Runnymede / Swansea  43.651571 -79.484450  \n82           Clarks Corners / Tam O'Shanter / Sullivan  43.781638 -79.304302  \n83                        Moore Park / Summerhill East  43.689574 -79.383160  \n84         Kensington Market / Chinatown / Grange Park  43.653206 -79.400049  \n85   Milliken / Agincourt North / Steeles East / L'...  43.815252 -79.284577  \n86   Summerhill West / Rathnelly / South Hill / For...  43.686412 -79.400049  \n87   CN Tower / King and Spadina / Railway Lands / ...  43.628947 -79.394420  \n88      New Toronto / Mimico South / Humber Bay Shores  43.605647 -79.501321  \n89   South Steeles / Silverstone / Humbergate / Jam...  43.739416 -79.588437  \n90                      Steeles West / L'Amoreaux West  43.799525 -79.318389  \n91                                            Rosedale  43.679563 -79.377529  \n92                                      Stn A PO Boxes  43.646435 -79.374846  \n93                             Alderwood / Long Branch  43.602414 -79.543484  \n94                                           Northwest  43.706748 -79.594054  \n95                                         Upper Rouge  43.836125 -79.205636  \n96                        St. James Town / Cabbagetown  43.667967 -79.367675  \n97             First Canadian Place / Underground city  43.648429 -79.382280  \n98    The Kingsway / Montgomery Road  / Old Mill North  43.653654 -79.506944  \n99                                Church and Wellesley  43.665860 -79.383160  \n100              Business reply mail Processing CentrE  43.662744 -79.321558  \n101  Old Mill South / King's Mill Park / Sunnylea /...  43.636258 -79.498509  \n102  Mimico NW / The Queensway West / South of Bloo...  43.628841 -79.520999  \n\n[103 rows x 5 columns]",
                        "text/html": "<div>\n<style scoped>\n    .dataframe tbody tr th:only-of-type {\n        vertical-align: middle;\n    }\n\n    .dataframe tbody tr th {\n        vertical-align: top;\n    }\n\n    .dataframe thead th {\n        text-align: right;\n    }\n</style>\n<table border=\"1\" class=\"dataframe\">\n  <thead>\n    <tr style=\"text-align: right;\">\n      <th></th>\n      <th>Postalcode</th>\n      <th>Borough</th>\n      <th>Neighborhood</th>\n      <th>Latitude</th>\n      <th>Longitude</th>\n    </tr>\n  </thead>\n  <tbody>\n    <tr>\n      <th>0</th>\n      <td>M3A</td>\n      <td>North York</td>\n      <td>Parkwoods</td>\n      <td>43.753259</td>\n      <td>-79.329656</td>\n    </tr>\n    <tr>\n      <th>1</th>\n      <td>M4A</td>\n      <td>North York</td>\n      <td>Victoria Village</td>\n      <td>43.725882</td>\n      <td>-79.315572</td>\n    </tr>\n    <tr>\n      <th>2</th>\n      <td>M5A</td>\n      <td>Downtown Toronto</td>\n      <td>Regent Park / Harbourfront</td>\n      <td>43.654260</td>\n      <td>-79.360636</td>\n    </tr>\n    <tr>\n      <th>3</th>\n      <td>M6A</td>\n      <td>North York</td>\n      <td>Lawrence Manor / Lawrence Heights</td>\n      <td>43.718518</td>\n      <td>-79.464763</td>\n    </tr>\n    <tr>\n      <th>4</th>\n      <td>M7A</td>\n      <td>Downtown Toronto</td>\n      <td>Queen's Park / Ontario Provincial Government</td>\n      <td>43.662301</td>\n      <td>-79.389494</td>\n    </tr>\n    <tr>\n      <th>5</th>\n      <td>M9A</td>\n      <td>Etobicoke</td>\n      <td>Islington Avenue</td>\n      <td>43.667856</td>\n      <td>-79.532242</td>\n    </tr>\n    <tr>\n      <th>6</th>\n      <td>M1B</td>\n      <td>Scarborough</td>\n      <td>Malvern / Rouge</td>\n      <td>43.806686</td>\n      <td>-79.194353</td>\n    </tr>\n    <tr>\n      <th>7</th>\n      <td>M3B</td>\n      <td>North York</td>\n      <td>Don Mills</td>\n      <td>43.745906</td>\n      <td>-79.352188</td>\n    </tr>\n    <tr>\n      <th>8</th>\n      <td>M4B</td>\n      <td>East York</td>\n      <td>Parkview Hill / Woodbine Gardens</td>\n      <td>43.706397</td>\n      <td>-79.309937</td>\n    </tr>\n    <tr>\n      <th>9</th>\n      <td>M5B</td>\n      <td>Downtown Toronto</td>\n      <td>Garden District, Ryerson</td>\n      <td>43.657162</td>\n      <td>-79.378937</td>\n    </tr>\n    <tr>\n      <th>10</th>\n      <td>M6B</td>\n      <td>North York</td>\n      <td>Glencairn</td>\n      <td>43.709577</td>\n      <td>-79.445073</td>\n    </tr>\n    <tr>\n      <th>11</th>\n      <td>M9B</td>\n      <td>Etobicoke</td>\n      <td>West Deane Park / Princess Gardens / Martin Gr...</td>\n      <td>43.650943</td>\n      <td>-79.554724</td>\n    </tr>\n    <tr>\n      <th>12</th>\n      <td>M1C</td>\n      <td>Scarborough</td>\n      <td>Rouge Hill / Port Union / Highland Creek</td>\n      <td>43.784535</td>\n      <td>-79.160497</td>\n    </tr>\n    <tr>\n      <th>13</th>\n      <td>M3C</td>\n      <td>North York</td>\n      <td>Don Mills</td>\n      <td>43.725900</td>\n      <td>-79.340923</td>\n    </tr>\n    <tr>\n      <th>14</th>\n      <td>M4C</td>\n      <td>East York</td>\n      <td>Woodbine Heights</td>\n      <td>43.695344</td>\n      <td>-79.318389</td>\n    </tr>\n    <tr>\n      <th>15</th>\n      <td>M5C</td>\n      <td>Downtown Toronto</td>\n      <td>St. James Town</td>\n      <td>43.651494</td>\n      <td>-79.375418</td>\n    </tr>\n    <tr>\n      <th>16</th>\n      <td>M6C</td>\n      <td>York</td>\n      <td>Humewood-Cedarvale</td>\n      <td>43.693781</td>\n      <td>-79.428191</td>\n    </tr>\n    <tr>\n      <th>17</th>\n      <td>M9C</td>\n      <td>Etobicoke</td>\n      <td>Eringate / Bloordale Gardens / Old Burnhamthor...</td>\n      <td>43.643515</td>\n      <td>-79.577201</td>\n    </tr>\n    <tr>\n      <th>18</th>\n      <td>M1E</td>\n      <td>Scarborough</td>\n      <td>Guildwood / Morningside / West Hill</td>\n      <td>43.763573</td>\n      <td>-79.188711</td>\n    </tr>\n    <tr>\n      <th>19</th>\n      <td>M4E</td>\n      <td>East Toronto</td>\n      <td>The Beaches</td>\n      <td>43.676357</td>\n      <td>-79.293031</td>\n    </tr>\n    <tr>\n      <th>20</th>\n      <td>M5E</td>\n      <td>Downtown Toronto</td>\n      <td>Berczy Park</td>\n      <td>43.644771</td>\n      <td>-79.373306</td>\n    </tr>\n    <tr>\n      <th>21</th>\n      <td>M6E</td>\n      <td>York</td>\n      <td>Caledonia-Fairbanks</td>\n      <td>43.689026</td>\n      <td>-79.453512</td>\n    </tr>\n    <tr>\n      <th>22</th>\n      <td>M1G</td>\n      <td>Scarborough</td>\n      <td>Woburn</td>\n      <td>43.770992</td>\n      <td>-79.216917</td>\n    </tr>\n    <tr>\n      <th>23</th>\n      <td>M4G</td>\n      <td>East York</td>\n      <td>Leaside</td>\n      <td>43.709060</td>\n      <td>-79.363452</td>\n    </tr>\n    <tr>\n      <th>24</th>\n      <td>M5G</td>\n      <td>Downtown Toronto</td>\n      <td>Central Bay Street</td>\n      <td>43.657952</td>\n      <td>-79.387383</td>\n    </tr>\n    <tr>\n      <th>25</th>\n      <td>M6G</td>\n      <td>Downtown Toronto</td>\n      <td>Christie</td>\n      <td>43.669542</td>\n      <td>-79.422564</td>\n    </tr>\n    <tr>\n      <th>26</th>\n      <td>M1H</td>\n      <td>Scarborough</td>\n      <td>Cedarbrae</td>\n      <td>43.773136</td>\n      <td>-79.239476</td>\n    </tr>\n    <tr>\n      <th>27</th>\n      <td>M2H</td>\n      <td>North York</td>\n      <td>Hillcrest Village</td>\n      <td>43.803762</td>\n      <td>-79.363452</td>\n    </tr>\n    <tr>\n      <th>28</th>\n      <td>M3H</td>\n      <td>North York</td>\n      <td>Bathurst Manor / Wilson Heights / Downsview North</td>\n      <td>43.754328</td>\n      <td>-79.442259</td>\n    </tr>\n    <tr>\n      <th>29</th>\n      <td>M4H</td>\n      <td>East York</td>\n      <td>Thorncliffe Park</td>\n      <td>43.705369</td>\n      <td>-79.349372</td>\n    </tr>\n    <tr>\n      <th>...</th>\n      <td>...</td>\n      <td>...</td>\n      <td>...</td>\n      <td>...</td>\n      <td>...</td>\n    </tr>\n    <tr>\n      <th>73</th>\n      <td>M4R</td>\n      <td>Central Toronto</td>\n      <td>North Toronto West</td>\n      <td>43.715383</td>\n      <td>-79.405678</td>\n    </tr>\n    <tr>\n      <th>74</th>\n      <td>M5R</td>\n      <td>Central Toronto</td>\n      <td>The Annex / North Midtown / Yorkville</td>\n      <td>43.672710</td>\n      <td>-79.405678</td>\n    </tr>\n    <tr>\n      <th>75</th>\n      <td>M6R</td>\n      <td>West Toronto</td>\n      <td>Parkdale / Roncesvalles</td>\n      <td>43.648960</td>\n      <td>-79.456325</td>\n    </tr>\n    <tr>\n      <th>76</th>\n      <td>M7R</td>\n      <td>Mississauga</td>\n      <td>Canada Post Gateway Processing Centre</td>\n      <td>43.636966</td>\n      <td>-79.615819</td>\n    </tr>\n    <tr>\n      <th>77</th>\n      <td>M9R</td>\n      <td>Etobicoke</td>\n      <td>Kingsview Village / St. Phillips / Martin Grov...</td>\n      <td>43.688905</td>\n      <td>-79.554724</td>\n    </tr>\n    <tr>\n      <th>78</th>\n      <td>M1S</td>\n      <td>Scarborough</td>\n      <td>Agincourt</td>\n      <td>43.794200</td>\n      <td>-79.262029</td>\n    </tr>\n    <tr>\n      <th>79</th>\n      <td>M4S</td>\n      <td>Central Toronto</td>\n      <td>Davisville</td>\n      <td>43.704324</td>\n      <td>-79.388790</td>\n    </tr>\n    <tr>\n      <th>80</th>\n      <td>M5S</td>\n      <td>Downtown Toronto</td>\n      <td>University of Toronto / Harbord</td>\n      <td>43.662696</td>\n      <td>-79.400049</td>\n    </tr>\n    <tr>\n      <th>81</th>\n      <td>M6S</td>\n      <td>West Toronto</td>\n      <td>Runnymede / Swansea</td>\n      <td>43.651571</td>\n      <td>-79.484450</td>\n    </tr>\n    <tr>\n      <th>82</th>\n      <td>M1T</td>\n      <td>Scarborough</td>\n      <td>Clarks Corners / Tam O'Shanter / Sullivan</td>\n      <td>43.781638</td>\n      <td>-79.304302</td>\n    </tr>\n    <tr>\n      <th>83</th>\n      <td>M4T</td>\n      <td>Central Toronto</td>\n      <td>Moore Park / Summerhill East</td>\n      <td>43.689574</td>\n      <td>-79.383160</td>\n    </tr>\n    <tr>\n      <th>84</th>\n      <td>M5T</td>\n      <td>Downtown Toronto</td>\n      <td>Kensington Market / Chinatown / Grange Park</td>\n      <td>43.653206</td>\n      <td>-79.400049</td>\n    </tr>\n    <tr>\n      <th>85</th>\n      <td>M1V</td>\n      <td>Scarborough</td>\n      <td>Milliken / Agincourt North / Steeles East / L'...</td>\n      <td>43.815252</td>\n      <td>-79.284577</td>\n    </tr>\n    <tr>\n      <th>86</th>\n      <td>M4V</td>\n      <td>Central Toronto</td>\n      <td>Summerhill West / Rathnelly / South Hill / For...</td>\n      <td>43.686412</td>\n      <td>-79.400049</td>\n    </tr>\n    <tr>\n      <th>87</th>\n      <td>M5V</td>\n      <td>Downtown Toronto</td>\n      <td>CN Tower / King and Spadina / Railway Lands / ...</td>\n      <td>43.628947</td>\n      <td>-79.394420</td>\n    </tr>\n    <tr>\n      <th>88</th>\n      <td>M8V</td>\n      <td>Etobicoke</td>\n      <td>New Toronto / Mimico South / Humber Bay Shores</td>\n      <td>43.605647</td>\n      <td>-79.501321</td>\n    </tr>\n    <tr>\n      <th>89</th>\n      <td>M9V</td>\n      <td>Etobicoke</td>\n      <td>South Steeles / Silverstone / Humbergate / Jam...</td>\n      <td>43.739416</td>\n      <td>-79.588437</td>\n    </tr>\n    <tr>\n      <th>90</th>\n      <td>M1W</td>\n      <td>Scarborough</td>\n      <td>Steeles West / L'Amoreaux West</td>\n      <td>43.799525</td>\n      <td>-79.318389</td>\n    </tr>\n    <tr>\n      <th>91</th>\n      <td>M4W</td>\n      <td>Downtown Toronto</td>\n      <td>Rosedale</td>\n      <td>43.679563</td>\n      <td>-79.377529</td>\n    </tr>\n    <tr>\n      <th>92</th>\n      <td>M5W</td>\n      <td>Downtown Toronto</td>\n      <td>Stn A PO Boxes</td>\n      <td>43.646435</td>\n      <td>-79.374846</td>\n    </tr>\n    <tr>\n      <th>93</th>\n      <td>M8W</td>\n      <td>Etobicoke</td>\n      <td>Alderwood / Long Branch</td>\n      <td>43.602414</td>\n      <td>-79.543484</td>\n    </tr>\n    <tr>\n      <th>94</th>\n      <td>M9W</td>\n      <td>Etobicoke</td>\n      <td>Northwest</td>\n      <td>43.706748</td>\n      <td>-79.594054</td>\n    </tr>\n    <tr>\n      <th>95</th>\n      <td>M1X</td>\n      <td>Scarborough</td>\n      <td>Upper Rouge</td>\n      <td>43.836125</td>\n      <td>-79.205636</td>\n    </tr>\n    <tr>\n      <th>96</th>\n      <td>M4X</td>\n      <td>Downtown Toronto</td>\n      <td>St. James Town / Cabbagetown</td>\n      <td>43.667967</td>\n      <td>-79.367675</td>\n    </tr>\n    <tr>\n      <th>97</th>\n      <td>M5X</td>\n      <td>Downtown Toronto</td>\n      <td>First Canadian Place / Underground city</td>\n      <td>43.648429</td>\n      <td>-79.382280</td>\n    </tr>\n    <tr>\n      <th>98</th>\n      <td>M8X</td>\n      <td>Etobicoke</td>\n      <td>The Kingsway / Montgomery Road  / Old Mill North</td>\n      <td>43.653654</td>\n      <td>-79.506944</td>\n    </tr>\n    <tr>\n      <th>99</th>\n      <td>M4Y</td>\n      <td>Downtown Toronto</td>\n      <td>Church and Wellesley</td>\n      <td>43.665860</td>\n      <td>-79.383160</td>\n    </tr>\n    <tr>\n      <th>100</th>\n      <td>M7Y</td>\n      <td>East Toronto</td>\n      <td>Business reply mail Processing CentrE</td>\n      <td>43.662744</td>\n      <td>-79.321558</td>\n    </tr>\n    <tr>\n      <th>101</th>\n      <td>M8Y</td>\n      <td>Etobicoke</td>\n      <td>Old Mill South / King's Mill Park / Sunnylea /...</td>\n      <td>43.636258</td>\n      <td>-79.498509</td>\n    </tr>\n    <tr>\n      <th>102</th>\n      <td>M8Z</td>\n      <td>Etobicoke</td>\n      <td>Mimico NW / The Queensway West / South of Bloo...</td>\n      <td>43.628841</td>\n      <td>-79.520999</td>\n    </tr>\n  </tbody>\n</table>\n<p>103 rows \u00d7 5 columns</p>\n</div>"
                    },
                    "metadata": {}
                }
            ]
        },
        {
            "metadata": {},
            "cell_type": "code",
            "source": "",
            "execution_count": null,
            "outputs": []
        }
    ],
    "metadata": {
        "kernelspec": {
            "name": "python3",
            "display_name": "Python 3.6",
            "language": "python"
        },
        "language_info": {
            "name": "python",
            "version": "3.6.9",
            "mimetype": "text/x-python",
            "codemirror_mode": {
                "name": "ipython",
                "version": 3
            },
            "pygments_lexer": "ipython3",
            "nbconvert_exporter": "python",
            "file_extension": ".py"
        }
    },
    "nbformat": 4,
    "nbformat_minor": 1
}